{
 "cells": [
  {
   "cell_type": "markdown",
   "metadata": {},
   "source": [
    "# Preparación"
   ]
  },
  {
   "cell_type": "code",
   "execution_count": 2,
   "metadata": {
    "collapsed": true
   },
   "outputs": [],
   "source": [
    "import os\n",
    "import numpy as np\n",
    "import pandas as pd\n",
    "%matplotlib inline"
   ]
  },
  {
   "cell_type": "code",
   "execution_count": 3,
   "metadata": {
    "collapsed": true
   },
   "outputs": [],
   "source": [
    "from seaborn import set_style\n",
    "set_style(\"darkgrid\")\n",
    "import seaborn as sns\n",
    "import matplotlib.pyplot as plt"
   ]
  },
  {
   "cell_type": "markdown",
   "metadata": {},
   "source": [
    "# Carga de datos"
   ]
  },
  {
   "cell_type": "code",
   "execution_count": 4,
   "metadata": {
    "collapsed": true
   },
   "outputs": [],
   "source": [
    "data = pd.read_csv(\"employee.csv\", sep=\";\")"
   ]
  },
  {
   "cell_type": "code",
   "execution_count": 5,
   "metadata": {},
   "outputs": [
    {
     "data": {
      "text/html": [
       "<div>\n",
       "<table border=\"1\" class=\"dataframe\">\n",
       "  <thead>\n",
       "    <tr style=\"text-align: right;\">\n",
       "      <th></th>\n",
       "      <th>Age</th>\n",
       "      <th>Attrition</th>\n",
       "      <th>BusinessTravel</th>\n",
       "      <th>DailyRate</th>\n",
       "      <th>Department</th>\n",
       "      <th>DistanceFromHome</th>\n",
       "      <th>Education</th>\n",
       "      <th>EducationField</th>\n",
       "      <th>EmployeeCount</th>\n",
       "      <th>EmployeeNumber</th>\n",
       "      <th>...</th>\n",
       "      <th>RelationshipSatisfaction</th>\n",
       "      <th>StandardHours</th>\n",
       "      <th>StockOptionLevel</th>\n",
       "      <th>TotalWorkingYears</th>\n",
       "      <th>TrainingTimesLastYear</th>\n",
       "      <th>WorkLifeBalance</th>\n",
       "      <th>YearsAtCompany</th>\n",
       "      <th>YearsInCurrentRole</th>\n",
       "      <th>YearsSinceLastPromotion</th>\n",
       "      <th>YearsWithCurrManager</th>\n",
       "    </tr>\n",
       "  </thead>\n",
       "  <tbody>\n",
       "    <tr>\n",
       "      <th>0</th>\n",
       "      <td>41</td>\n",
       "      <td>Yes</td>\n",
       "      <td>Travel_Rarely</td>\n",
       "      <td>1102</td>\n",
       "      <td>Sales</td>\n",
       "      <td>1</td>\n",
       "      <td>2</td>\n",
       "      <td>Life Sciences</td>\n",
       "      <td>1</td>\n",
       "      <td>1</td>\n",
       "      <td>...</td>\n",
       "      <td>1</td>\n",
       "      <td>80</td>\n",
       "      <td>0</td>\n",
       "      <td>8</td>\n",
       "      <td>0</td>\n",
       "      <td>1</td>\n",
       "      <td>6</td>\n",
       "      <td>4</td>\n",
       "      <td>0</td>\n",
       "      <td>5</td>\n",
       "    </tr>\n",
       "    <tr>\n",
       "      <th>1</th>\n",
       "      <td>49</td>\n",
       "      <td>No</td>\n",
       "      <td>Travel_Frequently</td>\n",
       "      <td>279</td>\n",
       "      <td>Research &amp; Development</td>\n",
       "      <td>8</td>\n",
       "      <td>1</td>\n",
       "      <td>Life Sciences</td>\n",
       "      <td>1</td>\n",
       "      <td>2</td>\n",
       "      <td>...</td>\n",
       "      <td>4</td>\n",
       "      <td>80</td>\n",
       "      <td>1</td>\n",
       "      <td>10</td>\n",
       "      <td>3</td>\n",
       "      <td>3</td>\n",
       "      <td>10</td>\n",
       "      <td>7</td>\n",
       "      <td>1</td>\n",
       "      <td>7</td>\n",
       "    </tr>\n",
       "    <tr>\n",
       "      <th>2</th>\n",
       "      <td>37</td>\n",
       "      <td>Yes</td>\n",
       "      <td>Travel_Rarely</td>\n",
       "      <td>1373</td>\n",
       "      <td>Research &amp; Development</td>\n",
       "      <td>2</td>\n",
       "      <td>2</td>\n",
       "      <td>Other</td>\n",
       "      <td>1</td>\n",
       "      <td>4</td>\n",
       "      <td>...</td>\n",
       "      <td>2</td>\n",
       "      <td>80</td>\n",
       "      <td>0</td>\n",
       "      <td>7</td>\n",
       "      <td>3</td>\n",
       "      <td>3</td>\n",
       "      <td>0</td>\n",
       "      <td>0</td>\n",
       "      <td>0</td>\n",
       "      <td>0</td>\n",
       "    </tr>\n",
       "    <tr>\n",
       "      <th>3</th>\n",
       "      <td>33</td>\n",
       "      <td>No</td>\n",
       "      <td>Travel_Frequently</td>\n",
       "      <td>1392</td>\n",
       "      <td>Research &amp; Development</td>\n",
       "      <td>3</td>\n",
       "      <td>4</td>\n",
       "      <td>Life Sciences</td>\n",
       "      <td>1</td>\n",
       "      <td>5</td>\n",
       "      <td>...</td>\n",
       "      <td>3</td>\n",
       "      <td>80</td>\n",
       "      <td>0</td>\n",
       "      <td>8</td>\n",
       "      <td>3</td>\n",
       "      <td>3</td>\n",
       "      <td>8</td>\n",
       "      <td>7</td>\n",
       "      <td>3</td>\n",
       "      <td>0</td>\n",
       "    </tr>\n",
       "    <tr>\n",
       "      <th>4</th>\n",
       "      <td>27</td>\n",
       "      <td>No</td>\n",
       "      <td>Travel_Rarely</td>\n",
       "      <td>591</td>\n",
       "      <td>Research &amp; Development</td>\n",
       "      <td>2</td>\n",
       "      <td>1</td>\n",
       "      <td>Medical</td>\n",
       "      <td>1</td>\n",
       "      <td>7</td>\n",
       "      <td>...</td>\n",
       "      <td>4</td>\n",
       "      <td>80</td>\n",
       "      <td>1</td>\n",
       "      <td>6</td>\n",
       "      <td>3</td>\n",
       "      <td>3</td>\n",
       "      <td>2</td>\n",
       "      <td>2</td>\n",
       "      <td>2</td>\n",
       "      <td>2</td>\n",
       "    </tr>\n",
       "  </tbody>\n",
       "</table>\n",
       "<p>5 rows × 35 columns</p>\n",
       "</div>"
      ],
      "text/plain": [
       "   Age Attrition     BusinessTravel  DailyRate              Department  \\\n",
       "0   41       Yes      Travel_Rarely       1102                   Sales   \n",
       "1   49        No  Travel_Frequently        279  Research & Development   \n",
       "2   37       Yes      Travel_Rarely       1373  Research & Development   \n",
       "3   33        No  Travel_Frequently       1392  Research & Development   \n",
       "4   27        No      Travel_Rarely        591  Research & Development   \n",
       "\n",
       "   DistanceFromHome  Education EducationField  EmployeeCount  EmployeeNumber  \\\n",
       "0                 1          2  Life Sciences              1               1   \n",
       "1                 8          1  Life Sciences              1               2   \n",
       "2                 2          2          Other              1               4   \n",
       "3                 3          4  Life Sciences              1               5   \n",
       "4                 2          1        Medical              1               7   \n",
       "\n",
       "           ...           RelationshipSatisfaction StandardHours  \\\n",
       "0          ...                                  1            80   \n",
       "1          ...                                  4            80   \n",
       "2          ...                                  2            80   \n",
       "3          ...                                  3            80   \n",
       "4          ...                                  4            80   \n",
       "\n",
       "   StockOptionLevel  TotalWorkingYears  TrainingTimesLastYear WorkLifeBalance  \\\n",
       "0                 0                  8                      0               1   \n",
       "1                 1                 10                      3               3   \n",
       "2                 0                  7                      3               3   \n",
       "3                 0                  8                      3               3   \n",
       "4                 1                  6                      3               3   \n",
       "\n",
       "   YearsAtCompany YearsInCurrentRole  YearsSinceLastPromotion  \\\n",
       "0               6                  4                        0   \n",
       "1              10                  7                        1   \n",
       "2               0                  0                        0   \n",
       "3               8                  7                        3   \n",
       "4               2                  2                        2   \n",
       "\n",
       "   YearsWithCurrManager  \n",
       "0                     5  \n",
       "1                     7  \n",
       "2                     0  \n",
       "3                     0  \n",
       "4                     2  \n",
       "\n",
       "[5 rows x 35 columns]"
      ]
     },
     "execution_count": 5,
     "metadata": {},
     "output_type": "execute_result"
    }
   ],
   "source": [
    "data.head()"
   ]
  },
  {
   "cell_type": "code",
   "execution_count": 6,
   "metadata": {},
   "outputs": [
    {
     "name": "stdout",
     "output_type": "stream",
     "text": [
      "<class 'pandas.core.frame.DataFrame'>\n",
      "RangeIndex: 1470 entries, 0 to 1469\n",
      "Data columns (total 35 columns):\n",
      "Age                         1470 non-null int64\n",
      "Attrition                   1470 non-null object\n",
      "BusinessTravel              1470 non-null object\n",
      "DailyRate                   1470 non-null int64\n",
      "Department                  1470 non-null object\n",
      "DistanceFromHome            1470 non-null int64\n",
      "Education                   1470 non-null int64\n",
      "EducationField              1470 non-null object\n",
      "EmployeeCount               1470 non-null int64\n",
      "EmployeeNumber              1470 non-null int64\n",
      "EnvironmentSatisfaction     1470 non-null int64\n",
      "Gender                      1470 non-null object\n",
      "HourlyRate                  1470 non-null int64\n",
      "JobInvolvement              1470 non-null int64\n",
      "JobLevel                    1470 non-null int64\n",
      "JobRole                     1470 non-null object\n",
      "JobSatisfaction             1470 non-null int64\n",
      "MaritalStatus               1470 non-null object\n",
      "MonthlyIncome               1470 non-null int64\n",
      "MonthlyRate                 1470 non-null int64\n",
      "NumCompaniesWorked          1470 non-null int64\n",
      "Over18                      1470 non-null object\n",
      "OverTime                    1470 non-null object\n",
      "PercentSalaryHike           1470 non-null int64\n",
      "PerformanceRating           1470 non-null int64\n",
      "RelationshipSatisfaction    1470 non-null int64\n",
      "StandardHours               1470 non-null int64\n",
      "StockOptionLevel            1470 non-null int64\n",
      "TotalWorkingYears           1470 non-null int64\n",
      "TrainingTimesLastYear       1470 non-null int64\n",
      "WorkLifeBalance             1470 non-null int64\n",
      "YearsAtCompany              1470 non-null int64\n",
      "YearsInCurrentRole          1470 non-null int64\n",
      "YearsSinceLastPromotion     1470 non-null int64\n",
      "YearsWithCurrManager        1470 non-null int64\n",
      "dtypes: int64(26), object(9)\n",
      "memory usage: 350.3+ KB\n"
     ]
    }
   ],
   "source": [
    "data.info()"
   ]
  },
  {
   "cell_type": "code",
   "execution_count": 7,
   "metadata": {},
   "outputs": [
    {
     "data": {
      "text/html": [
       "<div>\n",
       "<table border=\"1\" class=\"dataframe\">\n",
       "  <thead>\n",
       "    <tr style=\"text-align: right;\">\n",
       "      <th></th>\n",
       "      <th>Age</th>\n",
       "      <th>DailyRate</th>\n",
       "      <th>DistanceFromHome</th>\n",
       "      <th>Education</th>\n",
       "      <th>EmployeeCount</th>\n",
       "      <th>EmployeeNumber</th>\n",
       "      <th>EnvironmentSatisfaction</th>\n",
       "      <th>HourlyRate</th>\n",
       "      <th>JobInvolvement</th>\n",
       "      <th>JobLevel</th>\n",
       "      <th>...</th>\n",
       "      <th>RelationshipSatisfaction</th>\n",
       "      <th>StandardHours</th>\n",
       "      <th>StockOptionLevel</th>\n",
       "      <th>TotalWorkingYears</th>\n",
       "      <th>TrainingTimesLastYear</th>\n",
       "      <th>WorkLifeBalance</th>\n",
       "      <th>YearsAtCompany</th>\n",
       "      <th>YearsInCurrentRole</th>\n",
       "      <th>YearsSinceLastPromotion</th>\n",
       "      <th>YearsWithCurrManager</th>\n",
       "    </tr>\n",
       "  </thead>\n",
       "  <tbody>\n",
       "    <tr>\n",
       "      <th>count</th>\n",
       "      <td>1470.000000</td>\n",
       "      <td>1470.000000</td>\n",
       "      <td>1470.000000</td>\n",
       "      <td>1470.000000</td>\n",
       "      <td>1470.0</td>\n",
       "      <td>1470.000000</td>\n",
       "      <td>1470.000000</td>\n",
       "      <td>1470.000000</td>\n",
       "      <td>1470.000000</td>\n",
       "      <td>1470.000000</td>\n",
       "      <td>...</td>\n",
       "      <td>1470.000000</td>\n",
       "      <td>1470.0</td>\n",
       "      <td>1470.000000</td>\n",
       "      <td>1470.000000</td>\n",
       "      <td>1470.000000</td>\n",
       "      <td>1470.000000</td>\n",
       "      <td>1470.000000</td>\n",
       "      <td>1470.000000</td>\n",
       "      <td>1470.000000</td>\n",
       "      <td>1470.000000</td>\n",
       "    </tr>\n",
       "    <tr>\n",
       "      <th>mean</th>\n",
       "      <td>36.923810</td>\n",
       "      <td>802.485714</td>\n",
       "      <td>9.192517</td>\n",
       "      <td>2.912925</td>\n",
       "      <td>1.0</td>\n",
       "      <td>1024.865306</td>\n",
       "      <td>2.721769</td>\n",
       "      <td>65.891156</td>\n",
       "      <td>2.729932</td>\n",
       "      <td>2.063946</td>\n",
       "      <td>...</td>\n",
       "      <td>2.712245</td>\n",
       "      <td>80.0</td>\n",
       "      <td>0.793878</td>\n",
       "      <td>11.279592</td>\n",
       "      <td>2.799320</td>\n",
       "      <td>2.761224</td>\n",
       "      <td>7.008163</td>\n",
       "      <td>4.229252</td>\n",
       "      <td>2.187755</td>\n",
       "      <td>4.123129</td>\n",
       "    </tr>\n",
       "    <tr>\n",
       "      <th>std</th>\n",
       "      <td>9.135373</td>\n",
       "      <td>403.509100</td>\n",
       "      <td>8.106864</td>\n",
       "      <td>1.024165</td>\n",
       "      <td>0.0</td>\n",
       "      <td>602.024335</td>\n",
       "      <td>1.093082</td>\n",
       "      <td>20.329428</td>\n",
       "      <td>0.711561</td>\n",
       "      <td>1.106940</td>\n",
       "      <td>...</td>\n",
       "      <td>1.081209</td>\n",
       "      <td>0.0</td>\n",
       "      <td>0.852077</td>\n",
       "      <td>7.780782</td>\n",
       "      <td>1.289271</td>\n",
       "      <td>0.706476</td>\n",
       "      <td>6.126525</td>\n",
       "      <td>3.623137</td>\n",
       "      <td>3.222430</td>\n",
       "      <td>3.568136</td>\n",
       "    </tr>\n",
       "    <tr>\n",
       "      <th>min</th>\n",
       "      <td>18.000000</td>\n",
       "      <td>102.000000</td>\n",
       "      <td>1.000000</td>\n",
       "      <td>1.000000</td>\n",
       "      <td>1.0</td>\n",
       "      <td>1.000000</td>\n",
       "      <td>1.000000</td>\n",
       "      <td>30.000000</td>\n",
       "      <td>1.000000</td>\n",
       "      <td>1.000000</td>\n",
       "      <td>...</td>\n",
       "      <td>1.000000</td>\n",
       "      <td>80.0</td>\n",
       "      <td>0.000000</td>\n",
       "      <td>0.000000</td>\n",
       "      <td>0.000000</td>\n",
       "      <td>1.000000</td>\n",
       "      <td>0.000000</td>\n",
       "      <td>0.000000</td>\n",
       "      <td>0.000000</td>\n",
       "      <td>0.000000</td>\n",
       "    </tr>\n",
       "    <tr>\n",
       "      <th>25%</th>\n",
       "      <td>30.000000</td>\n",
       "      <td>465.000000</td>\n",
       "      <td>2.000000</td>\n",
       "      <td>2.000000</td>\n",
       "      <td>1.0</td>\n",
       "      <td>491.250000</td>\n",
       "      <td>2.000000</td>\n",
       "      <td>48.000000</td>\n",
       "      <td>2.000000</td>\n",
       "      <td>1.000000</td>\n",
       "      <td>...</td>\n",
       "      <td>2.000000</td>\n",
       "      <td>80.0</td>\n",
       "      <td>0.000000</td>\n",
       "      <td>6.000000</td>\n",
       "      <td>2.000000</td>\n",
       "      <td>2.000000</td>\n",
       "      <td>3.000000</td>\n",
       "      <td>2.000000</td>\n",
       "      <td>0.000000</td>\n",
       "      <td>2.000000</td>\n",
       "    </tr>\n",
       "    <tr>\n",
       "      <th>50%</th>\n",
       "      <td>36.000000</td>\n",
       "      <td>802.000000</td>\n",
       "      <td>7.000000</td>\n",
       "      <td>3.000000</td>\n",
       "      <td>1.0</td>\n",
       "      <td>1020.500000</td>\n",
       "      <td>3.000000</td>\n",
       "      <td>66.000000</td>\n",
       "      <td>3.000000</td>\n",
       "      <td>2.000000</td>\n",
       "      <td>...</td>\n",
       "      <td>3.000000</td>\n",
       "      <td>80.0</td>\n",
       "      <td>1.000000</td>\n",
       "      <td>10.000000</td>\n",
       "      <td>3.000000</td>\n",
       "      <td>3.000000</td>\n",
       "      <td>5.000000</td>\n",
       "      <td>3.000000</td>\n",
       "      <td>1.000000</td>\n",
       "      <td>3.000000</td>\n",
       "    </tr>\n",
       "    <tr>\n",
       "      <th>75%</th>\n",
       "      <td>43.000000</td>\n",
       "      <td>1157.000000</td>\n",
       "      <td>14.000000</td>\n",
       "      <td>4.000000</td>\n",
       "      <td>1.0</td>\n",
       "      <td>1555.750000</td>\n",
       "      <td>4.000000</td>\n",
       "      <td>83.750000</td>\n",
       "      <td>3.000000</td>\n",
       "      <td>3.000000</td>\n",
       "      <td>...</td>\n",
       "      <td>4.000000</td>\n",
       "      <td>80.0</td>\n",
       "      <td>1.000000</td>\n",
       "      <td>15.000000</td>\n",
       "      <td>3.000000</td>\n",
       "      <td>3.000000</td>\n",
       "      <td>9.000000</td>\n",
       "      <td>7.000000</td>\n",
       "      <td>3.000000</td>\n",
       "      <td>7.000000</td>\n",
       "    </tr>\n",
       "    <tr>\n",
       "      <th>max</th>\n",
       "      <td>60.000000</td>\n",
       "      <td>1499.000000</td>\n",
       "      <td>29.000000</td>\n",
       "      <td>5.000000</td>\n",
       "      <td>1.0</td>\n",
       "      <td>2068.000000</td>\n",
       "      <td>4.000000</td>\n",
       "      <td>100.000000</td>\n",
       "      <td>4.000000</td>\n",
       "      <td>5.000000</td>\n",
       "      <td>...</td>\n",
       "      <td>4.000000</td>\n",
       "      <td>80.0</td>\n",
       "      <td>3.000000</td>\n",
       "      <td>40.000000</td>\n",
       "      <td>6.000000</td>\n",
       "      <td>4.000000</td>\n",
       "      <td>40.000000</td>\n",
       "      <td>18.000000</td>\n",
       "      <td>15.000000</td>\n",
       "      <td>17.000000</td>\n",
       "    </tr>\n",
       "  </tbody>\n",
       "</table>\n",
       "<p>8 rows × 26 columns</p>\n",
       "</div>"
      ],
      "text/plain": [
       "               Age    DailyRate  DistanceFromHome    Education  EmployeeCount  \\\n",
       "count  1470.000000  1470.000000       1470.000000  1470.000000         1470.0   \n",
       "mean     36.923810   802.485714          9.192517     2.912925            1.0   \n",
       "std       9.135373   403.509100          8.106864     1.024165            0.0   \n",
       "min      18.000000   102.000000          1.000000     1.000000            1.0   \n",
       "25%      30.000000   465.000000          2.000000     2.000000            1.0   \n",
       "50%      36.000000   802.000000          7.000000     3.000000            1.0   \n",
       "75%      43.000000  1157.000000         14.000000     4.000000            1.0   \n",
       "max      60.000000  1499.000000         29.000000     5.000000            1.0   \n",
       "\n",
       "       EmployeeNumber  EnvironmentSatisfaction   HourlyRate  JobInvolvement  \\\n",
       "count     1470.000000              1470.000000  1470.000000     1470.000000   \n",
       "mean      1024.865306                 2.721769    65.891156        2.729932   \n",
       "std        602.024335                 1.093082    20.329428        0.711561   \n",
       "min          1.000000                 1.000000    30.000000        1.000000   \n",
       "25%        491.250000                 2.000000    48.000000        2.000000   \n",
       "50%       1020.500000                 3.000000    66.000000        3.000000   \n",
       "75%       1555.750000                 4.000000    83.750000        3.000000   \n",
       "max       2068.000000                 4.000000   100.000000        4.000000   \n",
       "\n",
       "          JobLevel          ...           RelationshipSatisfaction  \\\n",
       "count  1470.000000          ...                        1470.000000   \n",
       "mean      2.063946          ...                           2.712245   \n",
       "std       1.106940          ...                           1.081209   \n",
       "min       1.000000          ...                           1.000000   \n",
       "25%       1.000000          ...                           2.000000   \n",
       "50%       2.000000          ...                           3.000000   \n",
       "75%       3.000000          ...                           4.000000   \n",
       "max       5.000000          ...                           4.000000   \n",
       "\n",
       "       StandardHours  StockOptionLevel  TotalWorkingYears  \\\n",
       "count         1470.0       1470.000000        1470.000000   \n",
       "mean            80.0          0.793878          11.279592   \n",
       "std              0.0          0.852077           7.780782   \n",
       "min             80.0          0.000000           0.000000   \n",
       "25%             80.0          0.000000           6.000000   \n",
       "50%             80.0          1.000000          10.000000   \n",
       "75%             80.0          1.000000          15.000000   \n",
       "max             80.0          3.000000          40.000000   \n",
       "\n",
       "       TrainingTimesLastYear  WorkLifeBalance  YearsAtCompany  \\\n",
       "count            1470.000000      1470.000000     1470.000000   \n",
       "mean                2.799320         2.761224        7.008163   \n",
       "std                 1.289271         0.706476        6.126525   \n",
       "min                 0.000000         1.000000        0.000000   \n",
       "25%                 2.000000         2.000000        3.000000   \n",
       "50%                 3.000000         3.000000        5.000000   \n",
       "75%                 3.000000         3.000000        9.000000   \n",
       "max                 6.000000         4.000000       40.000000   \n",
       "\n",
       "       YearsInCurrentRole  YearsSinceLastPromotion  YearsWithCurrManager  \n",
       "count         1470.000000              1470.000000           1470.000000  \n",
       "mean             4.229252                 2.187755              4.123129  \n",
       "std              3.623137                 3.222430              3.568136  \n",
       "min              0.000000                 0.000000              0.000000  \n",
       "25%              2.000000                 0.000000              2.000000  \n",
       "50%              3.000000                 1.000000              3.000000  \n",
       "75%              7.000000                 3.000000              7.000000  \n",
       "max             18.000000                15.000000             17.000000  \n",
       "\n",
       "[8 rows x 26 columns]"
      ]
     },
     "execution_count": 7,
     "metadata": {},
     "output_type": "execute_result"
    }
   ],
   "source": [
    "data.describe()"
   ]
  },
  {
   "cell_type": "markdown",
   "metadata": {},
   "source": [
    "# Transformación de los datos"
   ]
  },
  {
   "cell_type": "markdown",
   "metadata": {},
   "source": [
    "## Creando dummy variables"
   ]
  },
  {
   "cell_type": "code",
   "execution_count": 8,
   "metadata": {},
   "outputs": [
    {
     "data": {
      "text/plain": [
       "Male      882\n",
       "Female    588\n",
       "Name: Gender, dtype: int64"
      ]
     },
     "execution_count": 8,
     "metadata": {},
     "output_type": "execute_result"
    }
   ],
   "source": [
    "data_t = data.copy()\n",
    "data_t.Gender.value_counts()"
   ]
  },
  {
   "cell_type": "code",
   "execution_count": 9,
   "metadata": {
    "collapsed": true
   },
   "outputs": [],
   "source": [
    "gender_dummy = pd.get_dummies(data_t.Gender, prefix='Gender').iloc[:,1:];\n",
    "\n",
    "attrition_dummy = pd.get_dummies(data_t.Attrition, prefix='Attrition').iloc[:,1:];"
   ]
  },
  {
   "cell_type": "code",
   "execution_count": 10,
   "metadata": {},
   "outputs": [
    {
     "data": {
      "text/plain": [
       "Travel_Rarely        1043\n",
       "Travel_Frequently     277\n",
       "Non-Travel            150\n",
       "Name: BusinessTravel, dtype: int64"
      ]
     },
     "execution_count": 10,
     "metadata": {},
     "output_type": "execute_result"
    }
   ],
   "source": [
    "data.BusinessTravel.value_counts()"
   ]
  },
  {
   "cell_type": "code",
   "execution_count": 11,
   "metadata": {
    "collapsed": true
   },
   "outputs": [],
   "source": [
    "bt_dummies = pd.get_dummies(data_t.BusinessTravel, prefix='BusinessTravel').iloc[:,1:]\n",
    "\n",
    "department_dummies = pd.get_dummies(data_t.Department, prefix='Department').iloc[:,1:]\n",
    "\n",
    "educational_dummies = pd.get_dummies(data_t.EducationField, prefix='EducationField').iloc[:,1:]\n",
    "\n",
    "jr_dummies = pd.get_dummies(data_t.JobRole, prefix='JobRole').iloc[:,1:]\n",
    "\n",
    "ms_dummies = pd.get_dummies(data_t.MaritalStatus, prefix='MaritalStatus').iloc[:,1:]\n",
    "\n",
    "ot_dummies = pd.get_dummies(data_t.OverTime, prefix='OverTime').iloc[:,1:]"
   ]
  },
  {
   "cell_type": "code",
   "execution_count": 12,
   "metadata": {
    "collapsed": true
   },
   "outputs": [],
   "source": [
    "data_t = pd.concat([data, \n",
    "                  gender_dummy,\n",
    "                  attrition_dummy,\n",
    "                  bt_dummies,\n",
    "                  department_dummies,\n",
    "                  educational_dummies,\n",
    "                  jr_dummies,\n",
    "                  ms_dummies,\n",
    "                  ot_dummies], axis=1)\n",
    "\n",
    "data_t.drop('Gender', axis=1, inplace=True)\n",
    "data_t.drop('Attrition', axis=1, inplace=True)\n",
    "data_t.drop('BusinessTravel', axis=1, inplace=True)\n",
    "data_t.drop('Department', axis=1, inplace=True)\n",
    "data_t.drop('EducationField', axis=1, inplace=True)\n",
    "data_t.drop('JobRole', axis=1, inplace=True)\n",
    "data_t.drop('MaritalStatus', axis=1, inplace=True)\n",
    "data_t.drop('OverTime', axis=1, inplace=True)\n",
    "data_t.drop('Over18', axis=1, inplace=True)\n",
    "data_t.drop('StandardHours', axis=1, inplace=True)\n",
    "data_t.drop('EmployeeCount', axis=1, inplace=True)\n",
    "data_t.drop('EmployeeNumber', axis=1, inplace=True)"
   ]
  },
  {
   "cell_type": "code",
   "execution_count": 14,
   "metadata": {},
   "outputs": [
    {
     "name": "stdout",
     "output_type": "stream",
     "text": [
      "<class 'pandas.core.frame.DataFrame'>\n",
      "RangeIndex: 1470 entries, 0 to 1469\n",
      "Data columns (total 45 columns):\n",
      "Age                                  1470 non-null int64\n",
      "DailyRate                            1470 non-null int64\n",
      "DistanceFromHome                     1470 non-null int64\n",
      "Education                            1470 non-null int64\n",
      "EnvironmentSatisfaction              1470 non-null int64\n",
      "HourlyRate                           1470 non-null int64\n",
      "JobInvolvement                       1470 non-null int64\n",
      "JobLevel                             1470 non-null int64\n",
      "JobSatisfaction                      1470 non-null int64\n",
      "MonthlyIncome                        1470 non-null int64\n",
      "MonthlyRate                          1470 non-null int64\n",
      "NumCompaniesWorked                   1470 non-null int64\n",
      "PercentSalaryHike                    1470 non-null int64\n",
      "PerformanceRating                    1470 non-null int64\n",
      "RelationshipSatisfaction             1470 non-null int64\n",
      "StockOptionLevel                     1470 non-null int64\n",
      "TotalWorkingYears                    1470 non-null int64\n",
      "TrainingTimesLastYear                1470 non-null int64\n",
      "WorkLifeBalance                      1470 non-null int64\n",
      "YearsAtCompany                       1470 non-null int64\n",
      "YearsInCurrentRole                   1470 non-null int64\n",
      "YearsSinceLastPromotion              1470 non-null int64\n",
      "YearsWithCurrManager                 1470 non-null int64\n",
      "Gender_Male                          1470 non-null uint8\n",
      "Attrition_Yes                        1470 non-null uint8\n",
      "BusinessTravel_Travel_Frequently     1470 non-null uint8\n",
      "BusinessTravel_Travel_Rarely         1470 non-null uint8\n",
      "Department_Research & Development    1470 non-null uint8\n",
      "Department_Sales                     1470 non-null uint8\n",
      "EducationField_Life Sciences         1470 non-null uint8\n",
      "EducationField_Marketing             1470 non-null uint8\n",
      "EducationField_Medical               1470 non-null uint8\n",
      "EducationField_Other                 1470 non-null uint8\n",
      "EducationField_Technical Degree      1470 non-null uint8\n",
      "JobRole_Human Resources              1470 non-null uint8\n",
      "JobRole_Laboratory Technician        1470 non-null uint8\n",
      "JobRole_Manager                      1470 non-null uint8\n",
      "JobRole_Manufacturing Director       1470 non-null uint8\n",
      "JobRole_Research Director            1470 non-null uint8\n",
      "JobRole_Research Scientist           1470 non-null uint8\n",
      "JobRole_Sales Executive              1470 non-null uint8\n",
      "JobRole_Sales Representative         1470 non-null uint8\n",
      "MaritalStatus_Married                1470 non-null uint8\n",
      "MaritalStatus_Single                 1470 non-null uint8\n",
      "OverTime_Yes                         1470 non-null uint8\n",
      "dtypes: int64(23), uint8(22)\n",
      "memory usage: 295.8 KB\n"
     ]
    }
   ],
   "source": [
    "data_t.info()"
   ]
  },
  {
   "cell_type": "markdown",
   "metadata": {},
   "source": [
    "# Visualización de los datos"
   ]
  },
  {
   "cell_type": "markdown",
   "metadata": {},
   "source": [
    "## Abandono"
   ]
  },
  {
   "cell_type": "code",
   "execution_count": 12,
   "metadata": {},
   "outputs": [
    {
     "name": "stdout",
     "output_type": "stream",
     "text": [
      "1233\n",
      "237\n"
     ]
    }
   ],
   "source": [
    "att_no, att_yes = data.Attrition.value_counts()\n",
    "print att_no\n",
    "print att_yes"
   ]
  },
  {
   "cell_type": "code",
   "execution_count": 13,
   "metadata": {},
   "outputs": [
    {
     "data": {
      "image/png": "[encoded data removed]",
      "text/plain": [
       "<matplotlib.figure.Figure at 0x120bd590>"
      ]
     },
     "metadata": {},
     "output_type": "display_data"
    }
   ],
   "source": [
    "data.Attrition.value_counts().plot(kind='bar');"
   ]
  },
  {
   "cell_type": "code",
   "execution_count": 14,
   "metadata": {},
   "outputs": [
    {
     "data": {
      "text/plain": [
       "0.16122448979591836"
      ]
     },
     "execution_count": 14,
     "metadata": {},
     "output_type": "execute_result"
    }
   ],
   "source": [
    "from __future__ import division\n",
    "att_rate = att_yes/(att_no+att_yes)\n",
    "att_rate"
   ]
  },
  {
   "cell_type": "code",
   "execution_count": 15,
   "metadata": {},
   "outputs": [
    {
     "data": {
      "text/plain": [
       "0.8387755102040817"
      ]
     },
     "execution_count": 15,
     "metadata": {},
     "output_type": "execute_result"
    }
   ],
   "source": [
    "1 - att_rate"
   ]
  },
  {
   "cell_type": "code",
   "execution_count": 16,
   "metadata": {},
   "outputs": [
    {
     "data": {
      "image/png": "[encoded data removed]",
      "text/plain": [
       "<matplotlib.figure.Figure at 0x120e8630>"
      ]
     },
     "metadata": {},
     "output_type": "display_data"
    }
   ],
   "source": [
    "data.Attrition.value_counts().plot(kind='pie');"
   ]
  },
  {
   "cell_type": "markdown",
   "metadata": {},
   "source": [
    "En los datos que tenemos 1233 siguen en la empresa, mientras que 237 la han abandonado"
   ]
  },
  {
   "cell_type": "markdown",
   "metadata": {},
   "source": [
    "## Horas extra"
   ]
  },
  {
   "cell_type": "code",
   "execution_count": 17,
   "metadata": {},
   "outputs": [
    {
     "data": {
      "text/plain": [
       "No     1054\n",
       "Yes     416\n",
       "Name: OverTime, dtype: int64"
      ]
     },
     "execution_count": 17,
     "metadata": {},
     "output_type": "execute_result"
    }
   ],
   "source": [
    "data.OverTime.value_counts()"
   ]
  },
  {
   "cell_type": "code",
   "execution_count": 18,
   "metadata": {},
   "outputs": [
    {
     "data": {
      "image/png": "[encoded data removed]",
      "text/plain": [
       "<matplotlib.figure.Figure at 0x120e8650>"
      ]
     },
     "metadata": {},
     "output_type": "display_data"
    }
   ],
   "source": [
    "fig, axs = plt.subplots(1,2)\n",
    "data[data.OverTime=='No'].Attrition.value_counts().plot(kind='pie', ax=axs[0], title='No Over time')\n",
    "data[data.OverTime=='Yes'].Attrition.value_counts().plot(kind='pie', ax=axs[1], title='Over time');"
   ]
  },
  {
   "cell_type": "markdown",
   "metadata": {},
   "source": [
    "Podemos apreciar que la caracteristica de horas extra parece influir en el abandono del trabajo."
   ]
  },
  {
   "cell_type": "markdown",
   "metadata": {},
   "source": [
    "Vamos a crear una variable adicional por si nos pudiese servir que refleje que personas hacen horas extra y tienen una mala conciliación del trabajo con el resto de su día a día. los valores de WorkLifeBalance son \n",
    "1 'Bad'\n",
    "2 'Good'\n",
    "3 'Better'\n",
    "4 'Best'\n",
    " y el de OverTime_Yes son 1 y 0.\n",
    " Queremos que una persoana que haga horas extra y tenga mala conciliación tenga un valor más distanciado de una persona que no haga horas extra de lo que estaría una persona con horas extras pero buena conciliación.\n",
    " \n",
    " Esto se puede conseguir invirtiendo el orden de los números en WorkLifeBalance y multiplicando por la característica OverTime_Yes."
   ]
  },
  {
   "cell_type": "code",
   "execution_count": 19,
   "metadata": {},
   "outputs": [
    {
     "data": {
      "text/html": [
       "<div>\n",
       "<table border=\"1\" class=\"dataframe\">\n",
       "  <thead>\n",
       "    <tr style=\"text-align: right;\">\n",
       "      <th></th>\n",
       "      <th>OverTime_Balance</th>\n",
       "      <th>OverTime_Yes</th>\n",
       "      <th>WorkLifeBalance</th>\n",
       "    </tr>\n",
       "  </thead>\n",
       "  <tbody>\n",
       "    <tr>\n",
       "      <th>0</th>\n",
       "      <td>4</td>\n",
       "      <td>1</td>\n",
       "      <td>1</td>\n",
       "    </tr>\n",
       "    <tr>\n",
       "      <th>1</th>\n",
       "      <td>0</td>\n",
       "      <td>0</td>\n",
       "      <td>3</td>\n",
       "    </tr>\n",
       "    <tr>\n",
       "      <th>2</th>\n",
       "      <td>2</td>\n",
       "      <td>1</td>\n",
       "      <td>3</td>\n",
       "    </tr>\n",
       "    <tr>\n",
       "      <th>3</th>\n",
       "      <td>2</td>\n",
       "      <td>1</td>\n",
       "      <td>3</td>\n",
       "    </tr>\n",
       "    <tr>\n",
       "      <th>4</th>\n",
       "      <td>0</td>\n",
       "      <td>0</td>\n",
       "      <td>3</td>\n",
       "    </tr>\n",
       "  </tbody>\n",
       "</table>\n",
       "</div>"
      ],
      "text/plain": [
       "   OverTime_Balance  OverTime_Yes  WorkLifeBalance\n",
       "0                 4             1                1\n",
       "1                 0             0                3\n",
       "2                 2             1                3\n",
       "3                 2             1                3\n",
       "4                 0             0                3"
      ]
     },
     "execution_count": 19,
     "metadata": {},
     "output_type": "execute_result"
    }
   ],
   "source": [
    "data_t['OverTime_Balance'] = data_t.OverTime_Yes * (5-data_t.WorkLifeBalance)\n",
    "data_t[['OverTime_Balance', 'OverTime_Yes', 'WorkLifeBalance']].head()"
   ]
  },
  {
   "cell_type": "markdown",
   "metadata": {
    "collapsed": true
   },
   "source": [
    "## Género"
   ]
  },
  {
   "cell_type": "code",
   "execution_count": 20,
   "metadata": {},
   "outputs": [
    {
     "data": {
      "image/png": "[encoded data removed]",
      "text/plain": [
       "<matplotlib.figure.Figure at 0x120bf050>"
      ]
     },
     "metadata": {},
     "output_type": "display_data"
    }
   ],
   "source": [
    "data.Gender.value_counts().plot(kind='bar');"
   ]
  },
  {
   "cell_type": "code",
   "execution_count": 21,
   "metadata": {},
   "outputs": [
    {
     "data": {
      "image/png": "[encoded data removed]",
      "text/plain": [
       "<matplotlib.figure.Figure at 0x123d10d0>"
      ]
     },
     "metadata": {},
     "output_type": "display_data"
    }
   ],
   "source": [
    "fig, axs = plt.subplots(1,2)\n",
    "data[data.Gender=='Male'].Attrition.value_counts().plot(kind='pie', ax=axs[0], title='Male')\n",
    "data[data.Gender=='Female'].Attrition.value_counts().plot(kind='pie', ax=axs[1], title='Female');"
   ]
  },
  {
   "cell_type": "markdown",
   "metadata": {},
   "source": [
    "Como podemos ver el género no parece una caracteristica diferenciadora a la hora del abandono del trabajo."
   ]
  },
  {
   "cell_type": "markdown",
   "metadata": {},
   "source": [
    "## Años en la compañía"
   ]
  },
  {
   "cell_type": "code",
   "execution_count": 22,
   "metadata": {},
   "outputs": [
    {
     "data": {
      "image/png": "[encoded data removed]",
      "text/plain": [
       "<matplotlib.figure.Figure at 0x120a2050>"
      ]
     },
     "metadata": {},
     "output_type": "display_data"
    }
   ],
   "source": [
    "plt.hist(data.YearsAtCompany);"
   ]
  },
  {
   "cell_type": "code",
   "execution_count": 23,
   "metadata": {},
   "outputs": [
    {
     "data": {
      "text/plain": [
       "5.0"
      ]
     },
     "execution_count": 23,
     "metadata": {},
     "output_type": "execute_result"
    }
   ],
   "source": [
    "years_median = data.YearsAtCompany.median()\n",
    "years_median"
   ]
  },
  {
   "cell_type": "code",
   "execution_count": 24,
   "metadata": {},
   "outputs": [
    {
     "data": {
      "image/png": "[encoded data removed]",
      "text/plain": [
       "<matplotlib.figure.Figure at 0x125d7950>"
      ]
     },
     "metadata": {},
     "output_type": "display_data"
    }
   ],
   "source": [
    "fig, axs = plt.subplots(1,2)\n",
    "data[data.YearsAtCompany>years_median].Attrition.value_counts().plot(kind='pie', ax=axs[0], title='more than %d years at company'%years_median)\n",
    "data[data.YearsAtCompany<=years_median].Attrition.value_counts().plot(kind='pie', ax=axs[1], title='less than %d years at company'%years_median);"
   ]
  },
  {
   "cell_type": "markdown",
   "metadata": {},
   "source": [
    "Como podemos ver hay muchos más abandonos en empleados con menos tiempo en la empresa"
   ]
  },
  {
   "cell_type": "code",
   "execution_count": 25,
   "metadata": {
    "collapsed": true
   },
   "outputs": [],
   "source": [
    "data_t['AtCompany_Over'] = (data_t['YearsAtCompany'] > years_median).astype(int)"
   ]
  },
  {
   "cell_type": "markdown",
   "metadata": {},
   "source": [
    "Vamos a crear otra variable que refleje el tiempo que lleva en la empresa en proporción a los años trabajados. En caso de que Sea el primer año, ambo valores seran 0 y la operación nos dará un valor de NaN, así que después lo sustituiremos por 1."
   ]
  },
  {
   "cell_type": "code",
   "execution_count": 26,
   "metadata": {},
   "outputs": [
    {
     "data": {
      "text/html": [
       "<div>\n",
       "<table border=\"1\" class=\"dataframe\">\n",
       "  <thead>\n",
       "    <tr style=\"text-align: right;\">\n",
       "      <th></th>\n",
       "      <th>YearsAtCurrRole_Rate</th>\n",
       "      <th>YearsInCurrentRole</th>\n",
       "      <th>YearsAtCompany</th>\n",
       "      <th>Attrition_Yes</th>\n",
       "    </tr>\n",
       "  </thead>\n",
       "  <tbody>\n",
       "    <tr>\n",
       "      <th>0</th>\n",
       "      <td>0.666667</td>\n",
       "      <td>4</td>\n",
       "      <td>6</td>\n",
       "      <td>1</td>\n",
       "    </tr>\n",
       "    <tr>\n",
       "      <th>1</th>\n",
       "      <td>0.700000</td>\n",
       "      <td>7</td>\n",
       "      <td>10</td>\n",
       "      <td>0</td>\n",
       "    </tr>\n",
       "    <tr>\n",
       "      <th>2</th>\n",
       "      <td>1.000000</td>\n",
       "      <td>0</td>\n",
       "      <td>0</td>\n",
       "      <td>1</td>\n",
       "    </tr>\n",
       "    <tr>\n",
       "      <th>3</th>\n",
       "      <td>0.875000</td>\n",
       "      <td>7</td>\n",
       "      <td>8</td>\n",
       "      <td>0</td>\n",
       "    </tr>\n",
       "    <tr>\n",
       "      <th>4</th>\n",
       "      <td>1.000000</td>\n",
       "      <td>2</td>\n",
       "      <td>2</td>\n",
       "      <td>0</td>\n",
       "    </tr>\n",
       "  </tbody>\n",
       "</table>\n",
       "</div>"
      ],
      "text/plain": [
       "   YearsAtCurrRole_Rate  YearsInCurrentRole  YearsAtCompany  Attrition_Yes\n",
       "0              0.666667                   4               6              1\n",
       "1              0.700000                   7              10              0\n",
       "2              1.000000                   0               0              1\n",
       "3              0.875000                   7               8              0\n",
       "4              1.000000                   2               2              0"
      ]
     },
     "execution_count": 26,
     "metadata": {},
     "output_type": "execute_result"
    }
   ],
   "source": [
    "data_t['YearsAtCurrRole_Rate'] = data_t.YearsInCurrentRole / data_t.YearsAtCompany\n",
    "data_t.YearsAtCurrRole_Rate.fillna(value=1, inplace=True)\n",
    "data_t[['YearsAtCurrRole_Rate', 'YearsInCurrentRole', 'YearsAtCompany', 'Attrition_Yes']].head()"
   ]
  },
  {
   "cell_type": "markdown",
   "metadata": {},
   "source": [
    "## Salario mensual"
   ]
  },
  {
   "cell_type": "code",
   "execution_count": 27,
   "metadata": {},
   "outputs": [
    {
     "data": {
      "image/png": "[encoded data removed]",
      "text/plain": [
       "<matplotlib.figure.Figure at 0x125d7110>"
      ]
     },
     "metadata": {},
     "output_type": "display_data"
    }
   ],
   "source": [
    "plt.hist(data.MonthlyIncome);"
   ]
  },
  {
   "cell_type": "code",
   "execution_count": 28,
   "metadata": {},
   "outputs": [
    {
     "data": {
      "text/plain": [
       "4919.0"
      ]
     },
     "execution_count": 28,
     "metadata": {},
     "output_type": "execute_result"
    }
   ],
   "source": [
    "income_median = data.MonthlyIncome.median()\n",
    "income_median"
   ]
  },
  {
   "cell_type": "code",
   "execution_count": 29,
   "metadata": {},
   "outputs": [
    {
     "data": {
      "image/png": "[encoded data removed]",
      "text/plain": [
       "<matplotlib.figure.Figure at 0x1226c630>"
      ]
     },
     "metadata": {},
     "output_type": "display_data"
    }
   ],
   "source": [
    "fig, axs = plt.subplots(1,2)\n",
    "data[data.MonthlyIncome>income_median].Attrition.value_counts().plot(kind='pie', ax=axs[0], title='income over %d'%income_median)\n",
    "data[data.MonthlyIncome<=income_median].Attrition.value_counts().plot(kind='pie', ax=axs[1], title='income under %d'%income_median);"
   ]
  },
  {
   "cell_type": "markdown",
   "metadata": {},
   "source": [
    "En el salario también podemos ver la diferencia de proporción de abandono, siendo notablemente mayor en empleados con  menor salario."
   ]
  },
  {
   "cell_type": "code",
   "execution_count": 30,
   "metadata": {
    "collapsed": true
   },
   "outputs": [],
   "source": [
    "data_t['Income_Over'] = (data_t['MonthlyIncome'] > income_median).astype(int)"
   ]
  },
  {
   "cell_type": "markdown",
   "metadata": {},
   "source": [
    "## Salario y tiempo en la empresa"
   ]
  },
  {
   "cell_type": "code",
   "execution_count": 31,
   "metadata": {},
   "outputs": [
    {
     "data": {
      "image/png": "[encoded data removed]",
      "text/plain": [
       "<matplotlib.figure.Figure at 0x120e8150>"
      ]
     },
     "metadata": {},
     "output_type": "display_data"
    }
   ],
   "source": [
    "colors = {'Yes':'red', 'No':'green'}\n",
    "\n",
    "\n",
    "\n",
    "fig, ax = plt.subplots()\n",
    "\n",
    "grouped = data.groupby('Attrition')\n",
    "for key, group in grouped:\n",
    "    group.plot(ax=ax, kind='scatter', x='MonthlyIncome', y='YearsAtCompany', label=key, color=colors[key], figsize=(10,5))\n",
    "\n",
    "plt.show()"
   ]
  },
  {
   "cell_type": "markdown",
   "metadata": {},
   "source": [
    "Podemos ver que la mayoría de puntos se encuentran proximos al origen. Es decir, que es más común el abandono en personas que lleva poco tiempo en la empresa y tiene un salario bajo."
   ]
  },
  {
   "cell_type": "markdown",
   "metadata": {},
   "source": [
    "Por ello vamos a crear una varible que refleje la relación entre estas dos variables por si nos sirviese de utilidad para realizar las prediccones. Como existe el valor 0 en la variable YearsAtCompany, sumamos uno para evitar el valor infinito."
   ]
  },
  {
   "cell_type": "code",
   "execution_count": 32,
   "metadata": {
    "collapsed": true
   },
   "outputs": [],
   "source": [
    "data_t['IncomeYears_Rate'] = data_t.MonthlyIncome / (data_t.YearsAtCompany+1)"
   ]
  },
  {
   "cell_type": "code",
   "execution_count": 33,
   "metadata": {},
   "outputs": [
    {
     "data": {
      "image/png": "[encoded data removed]",
      "text/plain": [
       "<matplotlib.figure.Figure at 0x121cdb30>"
      ]
     },
     "metadata": {},
     "output_type": "display_data"
    }
   ],
   "source": [
    "data.groupby('YearsAtCompany').MonthlyIncome.mean().plot();"
   ]
  },
  {
   "cell_type": "code",
   "execution_count": 34,
   "metadata": {},
   "outputs": [
    {
     "data": {
      "text/plain": [
       "5.1308016877637135"
      ]
     },
     "execution_count": 34,
     "metadata": {},
     "output_type": "execute_result"
    }
   ],
   "source": [
    "data[data.Attrition=='Yes'].YearsAtCompany.mean()"
   ]
  },
  {
   "cell_type": "code",
   "execution_count": 35,
   "metadata": {},
   "outputs": [
    {
     "data": {
      "text/plain": [
       "5.9499840292049315"
      ]
     },
     "execution_count": 35,
     "metadata": {},
     "output_type": "execute_result"
    }
   ],
   "source": [
    "data[data.Attrition=='Yes'].YearsAtCompany.std()"
   ]
  },
  {
   "cell_type": "markdown",
   "metadata": {},
   "source": [
    "La media de años trabajados cuando se produce un abandono es de 5.13 con una desviación de 5.94. Por tanto podemos comprobar si que la mayoría de abandonos se encuentran en los 10 primeros años. Por tanto se trata de una característica importante."
   ]
  },
  {
   "cell_type": "markdown",
   "metadata": {},
   "source": [
    "# Distancia desde casa"
   ]
  },
  {
   "cell_type": "code",
   "execution_count": 36,
   "metadata": {},
   "outputs": [
    {
     "data": {
      "image/png": "[encoded data removed]",
      "text/plain": [
       "<matplotlib.figure.Figure at 0x120427b0>"
      ]
     },
     "metadata": {},
     "output_type": "display_data"
    }
   ],
   "source": [
    "df = data_t[[\"DistanceFromHome\",\"Attrition_Yes\"]]\n",
    "\n",
    "df.groupby(\"DistanceFromHome\").Attrition_Yes.mean().plot();"
   ]
  },
  {
   "cell_type": "code",
   "execution_count": 37,
   "metadata": {},
   "outputs": [
    {
     "data": {
      "text/plain": [
       "7.0"
      ]
     },
     "execution_count": 37,
     "metadata": {},
     "output_type": "execute_result"
    }
   ],
   "source": [
    "dfh_median = data.DistanceFromHome.median()\n",
    "dfh_median"
   ]
  },
  {
   "cell_type": "code",
   "execution_count": 38,
   "metadata": {},
   "outputs": [
    {
     "data": {
      "image/png": "[encoded data removed]",
      "text/plain": [
       "<matplotlib.figure.Figure at 0x128acf10>"
      ]
     },
     "metadata": {},
     "output_type": "display_data"
    }
   ],
   "source": [
    "df =data[[\"DistanceFromHome\",\"Attrition\"]]\n",
    "fig, axs = plt.subplots(1,2)\n",
    "df[df.DistanceFromHome<dfh_median].Attrition.value_counts().plot(kind='pie', ax=axs[0], title='Attrition less than %d distance'% dfh_median)\n",
    "df[df.DistanceFromHome>=dfh_median].Attrition.value_counts().plot(kind='pie', ax=axs[1], title='Attrition with more than %d distance'% dfh_median);"
   ]
  },
  {
   "cell_type": "markdown",
   "metadata": {},
   "source": [
    "No parece una característica muy significativa, aunque puede aportar información al modelo."
   ]
  },
  {
   "cell_type": "code",
   "execution_count": 39,
   "metadata": {
    "collapsed": true
   },
   "outputs": [],
   "source": [
    "data_t['Distance_Over'] = (data_t['DistanceFromHome'] > dfh_median).astype(int)"
   ]
  },
  {
   "cell_type": "markdown",
   "metadata": {},
   "source": [
    "## Edad"
   ]
  },
  {
   "cell_type": "code",
   "execution_count": 40,
   "metadata": {},
   "outputs": [
    {
     "data": {
      "image/png": "[encoded data removed]",
      "text/plain": [
       "<matplotlib.figure.Figure at 0x128ac470>"
      ]
     },
     "metadata": {},
     "output_type": "display_data"
    }
   ],
   "source": [
    "colors = {'Yes':'red', 'No':'green'}\n",
    "\n",
    "\n",
    "\n",
    "fig, ax = plt.subplots()\n",
    "\n",
    "grouped = data.groupby('Attrition')\n",
    "for key, group in grouped:\n",
    "    group.plot(ax=ax, kind='scatter', x='MonthlyIncome', y='Age', label=key, color=colors[key], figsize=(10,5))\n",
    "\n",
    "plt.show()"
   ]
  },
  {
   "cell_type": "code",
   "execution_count": 41,
   "metadata": {},
   "outputs": [
    {
     "data": {
      "text/plain": [
       "36.0"
      ]
     },
     "execution_count": 41,
     "metadata": {},
     "output_type": "execute_result"
    }
   ],
   "source": [
    "age_median = data.Age.median()\n",
    "age_median"
   ]
  },
  {
   "cell_type": "code",
   "execution_count": 42,
   "metadata": {},
   "outputs": [
    {
     "data": {
      "image/png": "[encoded data removed]",
      "text/plain": [
       "<matplotlib.figure.Figure at 0x1204e830>"
      ]
     },
     "metadata": {},
     "output_type": "display_data"
    }
   ],
   "source": [
    "df =data[[\"Age\",\"Attrition\"]]\n",
    "fig, axs = plt.subplots(1,2)\n",
    "df[df.Age<age_median].Attrition.value_counts().plot(kind='pie', ax=axs[0], title='Attrition less than %d years old'% age_median)\n",
    "df[df.Age>=age_median].Attrition.value_counts().plot(kind='pie', ax=axs[1], title='Attrition more than %d years old'% age_median);"
   ]
  },
  {
   "cell_type": "markdown",
   "metadata": {},
   "source": [
    "La edad es otra característica importante a la hora de predecir si un empleado va a abandonar su puesto de trabajo. Hay mayor proporción de abandono en personas mas jovenes"
   ]
  },
  {
   "cell_type": "code",
   "execution_count": 43,
   "metadata": {
    "collapsed": true
   },
   "outputs": [],
   "source": [
    "data_t['Age_Over'] = (data_t['Age'] >= age_median).astype(int)"
   ]
  },
  {
   "cell_type": "markdown",
   "metadata": {},
   "source": [
    "# Número de empresas en las que ha trabajado"
   ]
  },
  {
   "cell_type": "code",
   "execution_count": 44,
   "metadata": {},
   "outputs": [
    {
     "data": {
      "image/png": "[encoded data removed]",
      "text/plain": [
       "<matplotlib.figure.Figure at 0x1227b250>"
      ]
     },
     "metadata": {},
     "output_type": "display_data"
    }
   ],
   "source": [
    "plt.hist(data.NumCompaniesWorked);"
   ]
  },
  {
   "cell_type": "code",
   "execution_count": 45,
   "metadata": {},
   "outputs": [
    {
     "data": {
      "text/plain": [
       "2.0"
      ]
     },
     "execution_count": 45,
     "metadata": {},
     "output_type": "execute_result"
    }
   ],
   "source": [
    "ncw_median = data.NumCompaniesWorked.median()\n",
    "ncw_median"
   ]
  },
  {
   "cell_type": "code",
   "execution_count": 46,
   "metadata": {},
   "outputs": [
    {
     "data": {
      "image/png": "[encoded data removed]",
      "text/plain": [
       "<matplotlib.figure.Figure at 0x120f6f10>"
      ]
     },
     "metadata": {},
     "output_type": "display_data"
    }
   ],
   "source": [
    "df =data[[\"NumCompaniesWorked\",\"Attrition\"]]\n",
    "fig, axs = plt.subplots(1,2)\n",
    "df[df.NumCompaniesWorked<=ncw_median].Attrition.value_counts().plot(kind='pie', ax=axs[0], title='Less than %d companies worked'% ncw_median)\n",
    "df[df.NumCompaniesWorked>ncw_median].Attrition.value_counts().plot(kind='pie', ax=axs[1], title='More than %d companies worked'% ncw_median);"
   ]
  },
  {
   "cell_type": "markdown",
   "metadata": {},
   "source": [
    "El número de empresas en las que ha trabajado no parece aportar mucha información."
   ]
  },
  {
   "cell_type": "markdown",
   "metadata": {},
   "source": [
    "Vamos a crear una variable que refleje los años trabajados de media por empresa. Como la columna NumCompaniesWorked solo contabiliza las empresas anteriores sin contar la actual, estaríamos dividiendo por 0. Por ello sumamos uno al valor de esa columna y así estamos contando también la empresa actual."
   ]
  },
  {
   "cell_type": "code",
   "execution_count": 47,
   "metadata": {},
   "outputs": [
    {
     "data": {
      "text/html": [
       "<div>\n",
       "<table border=\"1\" class=\"dataframe\">\n",
       "  <thead>\n",
       "    <tr style=\"text-align: right;\">\n",
       "      <th></th>\n",
       "      <th>YearsPerCompany</th>\n",
       "      <th>TotalWorkingYears</th>\n",
       "      <th>NumCompaniesWorked</th>\n",
       "      <th>Attrition_Yes</th>\n",
       "    </tr>\n",
       "  </thead>\n",
       "  <tbody>\n",
       "    <tr>\n",
       "      <th>0</th>\n",
       "      <td>0.888889</td>\n",
       "      <td>8</td>\n",
       "      <td>8</td>\n",
       "      <td>1</td>\n",
       "    </tr>\n",
       "    <tr>\n",
       "      <th>1</th>\n",
       "      <td>5.000000</td>\n",
       "      <td>10</td>\n",
       "      <td>1</td>\n",
       "      <td>0</td>\n",
       "    </tr>\n",
       "    <tr>\n",
       "      <th>2</th>\n",
       "      <td>1.000000</td>\n",
       "      <td>7</td>\n",
       "      <td>6</td>\n",
       "      <td>1</td>\n",
       "    </tr>\n",
       "    <tr>\n",
       "      <th>3</th>\n",
       "      <td>4.000000</td>\n",
       "      <td>8</td>\n",
       "      <td>1</td>\n",
       "      <td>0</td>\n",
       "    </tr>\n",
       "    <tr>\n",
       "      <th>4</th>\n",
       "      <td>0.600000</td>\n",
       "      <td>6</td>\n",
       "      <td>9</td>\n",
       "      <td>0</td>\n",
       "    </tr>\n",
       "  </tbody>\n",
       "</table>\n",
       "</div>"
      ],
      "text/plain": [
       "   YearsPerCompany  TotalWorkingYears  NumCompaniesWorked  Attrition_Yes\n",
       "0         0.888889                  8                   8              1\n",
       "1         5.000000                 10                   1              0\n",
       "2         1.000000                  7                   6              1\n",
       "3         4.000000                  8                   1              0\n",
       "4         0.600000                  6                   9              0"
      ]
     },
     "execution_count": 47,
     "metadata": {},
     "output_type": "execute_result"
    }
   ],
   "source": [
    "data_t['YearsPerCompany'] = data_t.TotalWorkingYears / (data_t.NumCompaniesWorked + 1)\n",
    "data_t[['YearsPerCompany', 'TotalWorkingYears', 'NumCompaniesWorked', 'Attrition_Yes']].head()"
   ]
  },
  {
   "cell_type": "markdown",
   "metadata": {},
   "source": [
    "# Construcción de modelos"
   ]
  },
  {
   "cell_type": "code",
   "execution_count": 48,
   "metadata": {
    "collapsed": true
   },
   "outputs": [],
   "source": [
    "from sklearn.model_selection import train_test_split\n",
    "from sklearn.model_selection import cross_val_score\n",
    "from sklearn import metrics\n",
    "from itertools import compress\n",
    "from sklearn.model_selection import GridSearchCV\n",
    "\n",
    "all_features = [\"OverTime_Yes\",\n",
    "                \"YearsAtCompany\",\n",
    "                \"MonthlyIncome\",\n",
    "                \"JobInvolvement\",\n",
    "                \"JobLevel\",\n",
    "                \"JobSatisfaction\",\n",
    "                \"Age\",\n",
    "                \"NumCompaniesWorked\",\n",
    "                \n",
    "                \n",
    "                \"BusinessTravel_Travel_Rarely\",\n",
    "                \"BusinessTravel_Travel_Frequently\",\n",
    "\n",
    "                \"DailyRate\",\n",
    "\n",
    "                \"Department_Research & Development\",\n",
    "                \"Department_Sales\",\n",
    "                \"DistanceFromHome\",\n",
    "\n",
    "                \"Education\",\n",
    "                \"EducationField_Life Sciences\",\n",
    "                \"EducationField_Marketing\",\n",
    "                \"EducationField_Medical\",\n",
    "                \"EducationField_Other\",\n",
    "                \"EducationField_Technical Degree\",\n",
    "\n",
    "                \"EnvironmentSatisfaction\",\n",
    "                \"Gender_Male\",\n",
    "                \"HourlyRate\",\n",
    "\n",
    "                \"JobRole_Human Resources\",\n",
    "                \"JobRole_Laboratory Technician\",\n",
    "                \"JobRole_Manager\",\n",
    "                \"JobRole_Manufacturing Director\",\n",
    "                \"JobRole_Research Director\",\n",
    "                \"JobRole_Research Scientist\",\n",
    "                \"JobRole_Sales Executive\",\n",
    "                \"JobRole_Sales Representative\",\n",
    "\n",
    "\n",
    "                \"MaritalStatus_Single\",\n",
    "                \"MaritalStatus_Married\",\n",
    "\n",
    "                \"MonthlyRate\",\n",
    "                \n",
    "                \"PercentSalaryHike\",\n",
    "                \"PerformanceRating\",\n",
    "                \"RelationshipSatisfaction\",\n",
    "                \"StockOptionLevel\",\n",
    "                \"TotalWorkingYears\",\n",
    "                \"TrainingTimesLastYear\",\n",
    "                \"WorkLifeBalance\",\n",
    "                \n",
    "                \"YearsInCurrentRole\",\n",
    "                \"YearsSinceLastPromotion\",\n",
    "                \"YearsWithCurrManager\"\n",
    "           ]\n",
    "\n",
    "custom_features = ['Age_Over', 'Income_Over', 'Distance_Over', 'AtCompany_Over', 'IncomeYears_Rate',\n",
    "                   'OverTime_Balance', 'YearsPerCompany', 'YearsAtCurrRole_Rate']"
   ]
  },
  {
   "cell_type": "markdown",
   "metadata": {},
   "source": [
    "## Linear Support Vector Classification"
   ]
  },
  {
   "cell_type": "code",
   "execution_count": 49,
   "metadata": {
    "collapsed": true
   },
   "outputs": [],
   "source": [
    "from sklearn.svm import LinearSVC\n",
    "from sklearn.model_selection import StratifiedKFold\n",
    "from sklearn.feature_selection import RFECV\n",
    "from sklearn.neighbors import KNeighborsClassifier"
   ]
  },
  {
   "cell_type": "markdown",
   "metadata": {},
   "source": [
    "### Recursive feature elimination"
   ]
  },
  {
   "cell_type": "code",
   "execution_count": 50,
   "metadata": {},
   "outputs": [
    {
     "name": "stdout",
     "output_type": "stream",
     "text": [
      "Optimal number of features : 24\n"
     ]
    },
    {
     "data": {
      "image/png": "[encoded data removed]",
      "text/plain": [
       "<matplotlib.figure.Figure at 0x124cfd90>"
      ]
     },
     "metadata": {},
     "output_type": "display_data"
    }
   ],
   "source": [
    "X = data_t[all_features+custom_features]\n",
    "y = data_t['Attrition_Yes']\n",
    "\n",
    "lsvc = LinearSVC(C=1)\n",
    "\n",
    "rfecv = RFECV(estimator=lsvc, step=1, cv=StratifiedKFold(3),\n",
    "              scoring='accuracy')\n",
    "rfecv.fit(X, y)\n",
    "\n",
    "print(\"Optimal number of features : %d\" % rfecv.n_features_)\n",
    "\n",
    "plt.figure()\n",
    "plt.xlabel(\"Number of features selected\")\n",
    "plt.ylabel(\"Cross validation score (nb of correct classifications)\")\n",
    "plt.plot(range(1, len(rfecv.grid_scores_) + 1), rfecv.grid_scores_)\n",
    "plt.show()"
   ]
  },
  {
   "cell_type": "code",
   "execution_count": 51,
   "metadata": {},
   "outputs": [
    {
     "name": "stdout",
     "output_type": "stream",
     "text": [
      "['OverTime_Yes', 'JobInvolvement', 'JobLevel', 'JobSatisfaction', 'NumCompaniesWorked', 'BusinessTravel_Travel_Frequently', 'Department_Research & Development', 'Department_Sales', 'EducationField_Life Sciences', 'EducationField_Medical', 'EducationField_Other', 'EducationField_Technical Degree', 'EnvironmentSatisfaction', 'Gender_Male', 'JobRole_Human Resources', 'JobRole_Laboratory Technician', 'JobRole_Research Scientist', 'JobRole_Sales Representative', 'MaritalStatus_Single', 'MaritalStatus_Married', 'TrainingTimesLastYear', 'WorkLifeBalance', 'Age_Over', 'YearsAtCurrRole_Rate']\n"
     ]
    }
   ],
   "source": [
    "features_rfecv_lsvc = list(compress(all_features+custom_features, rfecv.support_))\n",
    "print features_rfecv_lsvc"
   ]
  },
  {
   "cell_type": "code",
   "execution_count": 52,
   "metadata": {},
   "outputs": [
    {
     "name": "stdout",
     "output_type": "stream",
     "text": [
      "0.872282608696\n"
     ]
    }
   ],
   "source": [
    "X = data_t[features_rfecv_lsvc]\n",
    "X_train, X_test, y_train, y_test = train_test_split(X, y)\n",
    "lsvc = LinearSVC()\n",
    "lsvc.fit(X_train, y_train)\n",
    "y_pred_lsvc = lsvc.predict(X_test)\n",
    "print metrics.accuracy_score(y_test, y_pred_lsvc)"
   ]
  },
  {
   "cell_type": "code",
   "execution_count": 53,
   "metadata": {},
   "outputs": [
    {
     "name": "stdout",
     "output_type": "stream",
     "text": [
      "0.879640770908\n"
     ]
    }
   ],
   "source": [
    "scores = cross_val_score(lsvc, X, y, cv=20, scoring='accuracy')\n",
    "print scores.mean()"
   ]
  },
  {
   "cell_type": "markdown",
   "metadata": {},
   "source": [
    "### Feature selection using SelectFromModel"
   ]
  },
  {
   "cell_type": "code",
   "execution_count": 54,
   "metadata": {},
   "outputs": [
    {
     "data": {
      "text/plain": [
       "42"
      ]
     },
     "execution_count": 54,
     "metadata": {},
     "output_type": "execute_result"
    }
   ],
   "source": [
    "from sklearn.feature_selection import SelectFromModel\n",
    "X = data_t[all_features+custom_features]\n",
    "lsvc = LinearSVC(C=0.1, penalty=\"l1\", dual=False).fit(X, y)\n",
    "model = SelectFromModel(lsvc, prefit=True)\n",
    "model.get_support()\n",
    "\n",
    "features_sfm_lsvc = list(compress(all_features+custom_features, model.get_support()))\n",
    "len(features_sfm_lsvc)"
   ]
  },
  {
   "cell_type": "code",
   "execution_count": 55,
   "metadata": {},
   "outputs": [
    {
     "name": "stdout",
     "output_type": "stream",
     "text": [
      "['OverTime_Yes', 'YearsAtCompany', 'MonthlyIncome', 'JobInvolvement', 'JobSatisfaction', 'Age', 'NumCompaniesWorked', 'BusinessTravel_Travel_Rarely', 'BusinessTravel_Travel_Frequently', 'DailyRate', 'Department_Research & Development', 'Department_Sales', 'DistanceFromHome', 'Education', 'EducationField_Marketing', 'EducationField_Medical', 'EducationField_Technical Degree', 'EnvironmentSatisfaction', 'Gender_Male', 'HourlyRate', 'JobRole_Human Resources', 'JobRole_Laboratory Technician', 'JobRole_Sales Representative', 'MaritalStatus_Single', 'MaritalStatus_Married', 'PercentSalaryHike', 'PerformanceRating', 'RelationshipSatisfaction', 'StockOptionLevel', 'TotalWorkingYears', 'TrainingTimesLastYear', 'WorkLifeBalance', 'YearsInCurrentRole', 'YearsSinceLastPromotion', 'YearsWithCurrManager', 'Age_Over', 'Income_Over', 'Distance_Over', 'IncomeYears_Rate', 'OverTime_Balance', 'YearsPerCompany', 'YearsAtCurrRole_Rate']\n"
     ]
    }
   ],
   "source": [
    "print features_sfm_lsvc"
   ]
  },
  {
   "cell_type": "code",
   "execution_count": 56,
   "metadata": {},
   "outputs": [
    {
     "name": "stdout",
     "output_type": "stream",
     "text": [
      "0.809782608696\n"
     ]
    }
   ],
   "source": [
    "X = data_t[features_sfm_lsvc]\n",
    "X_train, X_test, y_train, y_test = train_test_split(X, y)\n",
    "lsvc = LinearSVC()\n",
    "lsvc.fit(X_train, y_train)\n",
    "y_pred_lsvc = lsvc.predict(X_test)\n",
    "print metrics.accuracy_score(y_test, y_pred_lsvc)"
   ]
  },
  {
   "cell_type": "code",
   "execution_count": 57,
   "metadata": {},
   "outputs": [
    {
     "name": "stdout",
     "output_type": "stream",
     "text": [
      "0.775938050155\n"
     ]
    }
   ],
   "source": [
    "scores = cross_val_score(lsvc, X, y, cv=StratifiedKFold(10), scoring='accuracy')\n",
    "print scores.mean()"
   ]
  },
  {
   "cell_type": "markdown",
   "metadata": {},
   "source": [
    "### Tree-Based feature selection"
   ]
  },
  {
   "cell_type": "code",
   "execution_count": 58,
   "metadata": {},
   "outputs": [
    {
     "data": {
      "text/plain": [
       "27"
      ]
     },
     "execution_count": 58,
     "metadata": {},
     "output_type": "execute_result"
    }
   ],
   "source": [
    "from sklearn.ensemble import ExtraTreesClassifier\n",
    "\n",
    "X = data_t[all_features+custom_features]\n",
    "\n",
    "clf = ExtraTreesClassifier()\n",
    "clf = clf.fit(X, y)\n",
    "clf.feature_importances_  \n",
    "\n",
    "model = SelectFromModel(clf, prefit=True)\n",
    "\n",
    "features_treebased = list(compress(all_features+custom_features, model.get_support()))\n",
    "len(features_treebased)"
   ]
  },
  {
   "cell_type": "code",
   "execution_count": 59,
   "metadata": {},
   "outputs": [
    {
     "name": "stdout",
     "output_type": "stream",
     "text": [
      "['OverTime_Yes', 'YearsAtCompany', 'MonthlyIncome', 'JobInvolvement', 'JobSatisfaction', 'Age', 'NumCompaniesWorked', 'DailyRate', 'DistanceFromHome', 'EnvironmentSatisfaction', 'HourlyRate', 'MaritalStatus_Single', 'MonthlyRate', 'PercentSalaryHike', 'RelationshipSatisfaction', 'StockOptionLevel', 'TotalWorkingYears', 'TrainingTimesLastYear', 'WorkLifeBalance', 'YearsInCurrentRole', 'YearsSinceLastPromotion', 'YearsWithCurrManager', 'Distance_Over', 'IncomeYears_Rate', 'OverTime_Balance', 'YearsPerCompany', 'YearsAtCurrRole_Rate']\n"
     ]
    }
   ],
   "source": [
    "print features_treebased"
   ]
  },
  {
   "cell_type": "code",
   "execution_count": 60,
   "metadata": {},
   "outputs": [
    {
     "name": "stdout",
     "output_type": "stream",
     "text": [
      "0.801630434783\n"
     ]
    }
   ],
   "source": [
    "X = data_t[features_treebased]\n",
    "X_train, X_test, y_train, y_test = train_test_split(X, y)\n",
    "lsvc = LinearSVC()\n",
    "lsvc.fit(X_train, y_train)\n",
    "y_pred_lsvc = lsvc.predict(X_test)\n",
    "print metrics.accuracy_score(y_test, y_pred_lsvc)"
   ]
  },
  {
   "cell_type": "code",
   "execution_count": 61,
   "metadata": {},
   "outputs": [
    {
     "name": "stdout",
     "output_type": "stream",
     "text": [
      "0.793510088226\n"
     ]
    }
   ],
   "source": [
    "scores = cross_val_score(lsvc, X, y, cv=StratifiedKFold(10), scoring='accuracy')\n",
    "print scores.mean()"
   ]
  },
  {
   "cell_type": "markdown",
   "metadata": {},
   "source": [
    "### Optimización de los parametros"
   ]
  },
  {
   "cell_type": "code",
   "execution_count": 62,
   "metadata": {},
   "outputs": [
    {
     "name": "stdout",
     "output_type": "stream",
     "text": [
      "features_sfm_lsvc\n",
      "0.887074829932\n",
      "{'penalty': 'l1', 'loss': 'squared_hinge', 'C': 1, 'dual': False, 'class_weight': None}\n",
      "features_treebased\n",
      "0.869387755102\n",
      "{'penalty': 'l1', 'loss': 'squared_hinge', 'C': 1, 'dual': False, 'class_weight': None}\n",
      "features_rfecv_lsvc\n",
      "0.882993197279\n",
      "{'penalty': 'l1', 'loss': 'squared_hinge', 'C': 1, 'dual': False, 'class_weight': None}\n"
     ]
    }
   ],
   "source": [
    "C = [1e-5, 1e-4, 1e-3, 1e-2, 0.1, 1, 10, 100]\n",
    "loss = ['hinge', 'squared_hinge']\n",
    "penalty = ['l1', 'l2']\n",
    "class_weight = [None, 'balanced']\n",
    "\n",
    "\n",
    "features = {'features_rfecv_lsvc':features_rfecv_lsvc,\n",
    "            'features_sfm_lsvc':features_sfm_lsvc,\n",
    "            'features_treebased':features_treebased}\n",
    "lsvc = LinearSVC()\n",
    "\n",
    "for key in features:\n",
    "    X = data_t[features[key]]\n",
    "    param_grid = dict(C=C, loss=loss, penalty=penalty)\n",
    "\n",
    "    param_grid = [dict(C=C, penalty=['l1'], loss=['squared_hinge'], dual=[False], class_weight=class_weight),\n",
    "                  dict(C=C, penalty=['l2'], loss=['hinge'], dual=[True], class_weight=class_weight),\n",
    "                  dict(C=C, penalty=['l2'], loss=['squared_hinge'], dual=[False, True], class_weight=class_weight)]\n",
    "    grid = GridSearchCV(lsvc, param_grid, cv=StratifiedKFold(10), scoring='accuracy')\n",
    "    grid.fit(X, y)\n",
    "    print key\n",
    "    print grid.best_score_\n",
    "    print grid.best_params_"
   ]
  },
  {
   "cell_type": "markdown",
   "metadata": {},
   "source": [
    "## K nearest neighbors"
   ]
  },
  {
   "cell_type": "code",
   "execution_count": 63,
   "metadata": {
    "collapsed": true
   },
   "outputs": [],
   "source": [
    "from sklearn.neighbors import KNeighborsClassifier"
   ]
  },
  {
   "cell_type": "code",
   "execution_count": 64,
   "metadata": {
    "collapsed": true
   },
   "outputs": [],
   "source": [
    "from sklearn.feature_selection import SelectKBest\n",
    "\n",
    "X = data_t[all_features+custom_features]\n",
    "y = data_t['Attrition_Yes']\n",
    "k_range = range(1,51)\n",
    "selected_features = {}\n",
    "for k in k_range:\n",
    "    selector = SelectKBest(k=k).fit(X,y)\n",
    "    selected_features[k] = list(compress(all_features, selector.get_support()))"
   ]
  },
  {
   "cell_type": "markdown",
   "metadata": {},
   "source": [
    "### Evaluación con split training"
   ]
  },
  {
   "cell_type": "code",
   "execution_count": 65,
   "metadata": {},
   "outputs": [
    {
     "name": "stdout",
     "output_type": "stream",
     "text": [
      "5\n",
      "['OverTime_Yes', 'JobLevel', 'MaritalStatus_Single', 'TotalWorkingYears']\n",
      "0.869565217391\n"
     ]
    }
   ],
   "source": [
    "max_score = 0\n",
    "for k in k_range:\n",
    "    X = data_t[selected_features[k]]\n",
    "    X_train, X_test, y_train, y_test = train_test_split(X, y)\n",
    "    knn = KNeighborsClassifier(n_neighbors=5)\n",
    "    knn.fit(X_train, y_train)\n",
    "    y_pred_knn = knn.predict(X_test)\n",
    "    score =  metrics.accuracy_score(y_test, y_pred_knn)\n",
    "    if score > max_score:\n",
    "        max_score = score\n",
    "        k_max = k\n",
    "print k_max\n",
    "print selected_features[k_max]\n",
    "print max_score"
   ]
  },
  {
   "cell_type": "markdown",
   "metadata": {},
   "source": [
    "### Evaluación con cross-validation"
   ]
  },
  {
   "cell_type": "code",
   "execution_count": 66,
   "metadata": {},
   "outputs": [
    {
     "name": "stdout",
     "output_type": "stream",
     "text": [
      "4\n",
      "['OverTime_Yes', 'JobLevel', 'MaritalStatus_Single', 'TotalWorkingYears']\n",
      "0.846943749732\n"
     ]
    }
   ],
   "source": [
    "max_score = 0\n",
    "for k in k_range:\n",
    "    X = data_t[selected_features[k]]\n",
    "    knn = KNeighborsClassifier(n_neighbors=5)\n",
    "    scores = cross_val_score(knn, X, y, cv=StratifiedKFold(10), scoring='accuracy')\n",
    "    score = scores.mean()\n",
    "    if score > max_score:\n",
    "        max_score = score\n",
    "        k_max = k\n",
    "print k_max -1\n",
    "print selected_features[k_max]\n",
    "features_knn = selected_features[k_max]\n",
    "print max_score"
   ]
  },
  {
   "cell_type": "markdown",
   "metadata": {},
   "source": [
    "### Busqueda del número de vecinos óptimo"
   ]
  },
  {
   "cell_type": "code",
   "execution_count": 67,
   "metadata": {},
   "outputs": [
    {
     "name": "stdout",
     "output_type": "stream",
     "text": [
      "[0.75986671603109956, 0.82925623414860206, 0.80274356688251003, 0.82859434777243002, 0.81910277624563343, 0.84220954949917759, 0.83676271323042362, 0.84355164501935531, 0.83878042146143916, 0.84422732069503115, 0.84288988457285918, 0.84150150989681338, 0.84014556211229396, 0.84150150989681338, 0.84150150989681338, 0.84081657838996404, 0.84013630628112035, 0.84082117482313179, 0.84082117482313179, 0.84014549914745607, 0.84014549914745607, 0.83946522703861248, 0.84015015854546182, 0.83878495492976912, 0.83878495492976912, 0.83878495492976912, 0.83878495492976912, 0.83878495492976912, 0.83878495492976912, 0.83878495492976912, 0.83878495492976912, 0.83878495492976912, 0.83878495492976912, 0.83878495492976912, 0.83878495492976912, 0.83878495492976912, 0.83878495492976912, 0.83878495492976912, 0.83878495492976912]\n",
      "0.844227320695\n",
      "10\n"
     ]
    }
   ],
   "source": [
    "n_range = range(1,40)\n",
    "k_scores = []\n",
    "max_score = 0\n",
    "for n in n_range:\n",
    "    knn = KNeighborsClassifier(n_neighbors=n)\n",
    "    scores = cross_val_score(knn, X, y, cv=StratifiedKFold(10), scoring='accuracy')\n",
    "    score = scores.mean()\n",
    "    if score >= max_score:\n",
    "        max_score = score\n",
    "        neighbors = n\n",
    "    k_scores.append(scores.mean())\n",
    "print k_scores\n",
    "print max_score\n",
    "print neighbors"
   ]
  },
  {
   "cell_type": "code",
   "execution_count": 68,
   "metadata": {},
   "outputs": [
    {
     "data": {
      "image/png": "[encoded data removed]",
      "text/plain": [
       "<matplotlib.figure.Figure at 0x120577b0>"
      ]
     },
     "metadata": {},
     "output_type": "display_data"
    }
   ],
   "source": [
    "import matplotlib.pyplot as plt\n",
    "%matplotlib inline\n",
    "\n",
    "# k neighbors x-axis and cross-validated accuracy y-axis\n",
    "plt.plot(n_range, k_scores)\n",
    "plt.xlabel('Value of k for KNN')\n",
    "plt.ylabel('Cross-validates accuracy');"
   ]
  },
  {
   "cell_type": "markdown",
   "metadata": {
    "collapsed": true
   },
   "source": [
    "## Busqueda de parámetros óptimas para el modelo KNeighbors\n",
    "Usando GridSeachCV"
   ]
  },
  {
   "cell_type": "code",
   "execution_count": 69,
   "metadata": {},
   "outputs": [
    {
     "name": "stdout",
     "output_type": "stream",
     "text": [
      "features_sfm_lsvc\n",
      "0.839455782313\n",
      "{'n_neighbors': 38, 'weights': 'uniform'}\n",
      "features_treebased\n",
      "0.840136054422\n",
      "{'n_neighbors': 30, 'weights': 'distance'}\n",
      "features_rfecv_lsvc\n",
      "0.838775510204\n",
      "{'n_neighbors': 30, 'weights': 'uniform'}\n",
      "KBest\n",
      "0.842176870748\n",
      "{'n_neighbors': 36, 'weights': 'distance'}\n"
     ]
    }
   ],
   "source": [
    "k_range = range(30,40)\n",
    "weight_options = ['uniform', 'distance']\n",
    "\n",
    "\n",
    "for key in features:\n",
    "    X = data_t[features[key]]\n",
    "    param_grid = dict(n_neighbors=k_range, weights=weight_options)\n",
    "    grid = GridSearchCV(knn, param_grid, cv=StratifiedKFold(10), scoring='accuracy') #n_jobs=-1 all cpu will be used\n",
    "    grid.fit(X, y)\n",
    "    \n",
    "    print key\n",
    "    print grid.best_score_\n",
    "    print grid.best_params_\n",
    "    \n",
    "max_score = 0\n",
    "for k in k_range:\n",
    "    X = data_t[selected_features[k]]\n",
    "    param_grid = dict(n_neighbors=k_range, weights=weight_options)\n",
    "    grid = GridSearchCV(knn, param_grid, cv=StratifiedKFold(10), scoring='accuracy') #n_jobs=-1 all cpu will be used\n",
    "    grid.fit(X, y)\n",
    "    score = grid.best_score_\n",
    "    if score > max_score:\n",
    "        max_score = score\n",
    "        best_params = grid.best_params_\n",
    "        k_max = k\n",
    "    \n",
    "print 'KBest'\n",
    "print max_score\n",
    "print best_params"
   ]
  },
  {
   "cell_type": "markdown",
   "metadata": {},
   "source": [
    "Ha resultado que los mejores parametros para el estimador KNeighbors son k = 8 y la ponderación por distancia. Aun así un 85% de tasa de acierto se queda lejos de ser un buen estimador."
   ]
  },
  {
   "cell_type": "markdown",
   "metadata": {},
   "source": [
    "# Regresión logística"
   ]
  },
  {
   "cell_type": "code",
   "execution_count": 70,
   "metadata": {
    "collapsed": true
   },
   "outputs": [],
   "source": [
    "from sklearn.linear_model import LogisticRegression\n",
    "from sklearn.linear_model import LogisticRegressionCV\n",
    "from sklearn.metrics import log_loss\n",
    "from sklearn.metrics import make_scorer"
   ]
  },
  {
   "cell_type": "markdown",
   "metadata": {},
   "source": [
    "### Recursive feature elimination"
   ]
  },
  {
   "cell_type": "code",
   "execution_count": 71,
   "metadata": {},
   "outputs": [
    {
     "name": "stdout",
     "output_type": "stream",
     "text": [
      "Optimal number of features : 42\n"
     ]
    },
    {
     "data": {
      "image/png": "[encoded data removed]",
      "text/plain": [
       "<matplotlib.figure.Figure at 0x124cf8f0>"
      ]
     },
     "metadata": {},
     "output_type": "display_data"
    }
   ],
   "source": [
    "X = data_t[all_features+custom_features]\n",
    "y = data_t['Attrition_Yes']\n",
    "\n",
    "\n",
    "logreg = LogisticRegression()\n",
    "\n",
    "rfecv = RFECV(estimator=logreg, step=1, cv=StratifiedKFold(3),\n",
    "              scoring='accuracy')\n",
    "rfecv.fit(X, y)\n",
    "\n",
    "print(\"Optimal number of features : %d\" % rfecv.n_features_)\n",
    "\n",
    "# Plot number of features VS. cross-validation scores\n",
    "plt.figure()\n",
    "plt.xlabel(\"Number of features selected\")\n",
    "plt.ylabel(\"Cross validation score (nb of correct classifications)\")\n",
    "plt.plot(range(1, len(rfecv.grid_scores_) + 1), rfecv.grid_scores_)\n",
    "plt.show()"
   ]
  },
  {
   "cell_type": "code",
   "execution_count": 72,
   "metadata": {},
   "outputs": [
    {
     "name": "stdout",
     "output_type": "stream",
     "text": [
      "['OverTime_Yes', 'YearsAtCompany', 'JobInvolvement', 'JobLevel', 'JobSatisfaction', 'NumCompaniesWorked', 'BusinessTravel_Travel_Rarely', 'BusinessTravel_Travel_Frequently', 'Department_Research & Development', 'Department_Sales', 'EducationField_Life Sciences', 'EducationField_Marketing', 'EducationField_Medical', 'EducationField_Other', 'EducationField_Technical Degree', 'EnvironmentSatisfaction', 'Gender_Male', 'JobRole_Human Resources', 'JobRole_Laboratory Technician', 'JobRole_Manager', 'JobRole_Manufacturing Director', 'JobRole_Research Director', 'JobRole_Research Scientist', 'JobRole_Sales Executive', 'JobRole_Sales Representative', 'MaritalStatus_Single', 'MaritalStatus_Married', 'PerformanceRating', 'RelationshipSatisfaction', 'StockOptionLevel', 'TrainingTimesLastYear', 'WorkLifeBalance', 'YearsInCurrentRole', 'YearsSinceLastPromotion', 'YearsWithCurrManager', 'Age_Over', 'Income_Over', 'Distance_Over', 'AtCompany_Over', 'OverTime_Balance', 'YearsPerCompany', 'YearsAtCurrRole_Rate']\n"
     ]
    }
   ],
   "source": [
    "features_rfecv_logreg = list(compress(all_features+custom_features, rfecv.support_))\n",
    "print features_rfecv_logreg"
   ]
  },
  {
   "cell_type": "code",
   "execution_count": 73,
   "metadata": {},
   "outputs": [
    {
     "name": "stdout",
     "output_type": "stream",
     "text": [
      "0.883152173913\n"
     ]
    }
   ],
   "source": [
    "X = data_t[features_rfecv_logreg]\n",
    "X_train, X_test, y_train, y_test = train_test_split(X, y)\n",
    "lsvc = LogisticRegression()\n",
    "lsvc.fit(X_train, y_train)\n",
    "y_pred = lsvc.predict(X_test)\n",
    "print metrics.accuracy_score(y_test, y_pred)"
   ]
  },
  {
   "cell_type": "code",
   "execution_count": 74,
   "metadata": {},
   "outputs": [
    {
     "name": "stdout",
     "output_type": "stream",
     "text": [
      "0.893199230822\n"
     ]
    }
   ],
   "source": [
    "scores = cross_val_score(lsvc, X, y, cv=StratifiedKFold(10), scoring='accuracy')\n",
    "print scores.mean()"
   ]
  },
  {
   "cell_type": "markdown",
   "metadata": {},
   "source": [
    "## Feature selection using SelectFromModel"
   ]
  },
  {
   "cell_type": "code",
   "execution_count": 75,
   "metadata": {},
   "outputs": [
    {
     "data": {
      "text/plain": [
       "51"
      ]
     },
     "execution_count": 75,
     "metadata": {},
     "output_type": "execute_result"
    }
   ],
   "source": [
    "from sklearn.feature_selection import SelectFromModel\n",
    "X = data_t[all_features+custom_features]\n",
    "logreg = LogisticRegression(penalty= 'l1', C=10, fit_intercept=False, tol=0.001, class_weight=None).fit(X, y)\n",
    "model = SelectFromModel(logreg, prefit=True)\n",
    "model.get_support()\n",
    "\n",
    "features_sfm_logreg = list(compress(all_features+custom_features, model.get_support()))\n",
    "len(features_sfm_logreg)"
   ]
  },
  {
   "cell_type": "code",
   "execution_count": 76,
   "metadata": {},
   "outputs": [
    {
     "name": "stdout",
     "output_type": "stream",
     "text": [
      "['OverTime_Yes', 'YearsAtCompany', 'MonthlyIncome', 'JobInvolvement', 'JobLevel', 'JobSatisfaction', 'Age', 'NumCompaniesWorked', 'BusinessTravel_Travel_Rarely', 'BusinessTravel_Travel_Frequently', 'DailyRate', 'Department_Research & Development', 'Department_Sales', 'DistanceFromHome', 'Education', 'EducationField_Life Sciences', 'EducationField_Marketing', 'EducationField_Medical', 'EducationField_Other', 'EducationField_Technical Degree', 'EnvironmentSatisfaction', 'Gender_Male', 'HourlyRate', 'JobRole_Human Resources', 'JobRole_Laboratory Technician', 'JobRole_Manager', 'JobRole_Manufacturing Director', 'JobRole_Research Director', 'JobRole_Research Scientist', 'JobRole_Sales Executive', 'JobRole_Sales Representative', 'MaritalStatus_Single', 'MaritalStatus_Married', 'PercentSalaryHike', 'PerformanceRating', 'RelationshipSatisfaction', 'StockOptionLevel', 'TotalWorkingYears', 'TrainingTimesLastYear', 'WorkLifeBalance', 'YearsInCurrentRole', 'YearsSinceLastPromotion', 'YearsWithCurrManager', 'Age_Over', 'Income_Over', 'Distance_Over', 'AtCompany_Over', 'IncomeYears_Rate', 'OverTime_Balance', 'YearsPerCompany', 'YearsAtCurrRole_Rate']\n"
     ]
    }
   ],
   "source": [
    "print features_sfm_logreg"
   ]
  },
  {
   "cell_type": "code",
   "execution_count": 77,
   "metadata": {},
   "outputs": [
    {
     "name": "stdout",
     "output_type": "stream",
     "text": [
      "0.864130434783\n"
     ]
    }
   ],
   "source": [
    "X = data_t[features_sfm_logreg]\n",
    "X_train, X_test, y_train, y_test = train_test_split(X, y)\n",
    "logreg.fit(X_train, y_train)\n",
    "y_pred = logreg.predict(X_test)\n",
    "print metrics.accuracy_score(y_test, y_pred)"
   ]
  },
  {
   "cell_type": "code",
   "execution_count": 78,
   "metadata": {},
   "outputs": [
    {
     "name": "stdout",
     "output_type": "stream",
     "text": [
      "0.880273682964\n"
     ]
    }
   ],
   "source": [
    "scores = cross_val_score(logreg, X, y, cv=StratifiedKFold(10), scoring='accuracy')\n",
    "print scores.mean()"
   ]
  },
  {
   "cell_type": "markdown",
   "metadata": {},
   "source": [
    "### Optimizando parametros de regresión logística"
   ]
  },
  {
   "cell_type": "code",
   "execution_count": 79,
   "metadata": {},
   "outputs": [
    {
     "name": "stdout",
     "output_type": "stream",
     "text": [
      "0.887044103091\n"
     ]
    }
   ],
   "source": [
    "X = data_t[features_sfm_logreg]\n",
    "logreg = LogisticRegression()\n",
    "scores = cross_val_score(logreg, X, y, cv=StratifiedKFold(10), scoring='accuracy').mean()\n",
    "print scores"
   ]
  },
  {
   "cell_type": "code",
   "execution_count": 80,
   "metadata": {
    "collapsed": true
   },
   "outputs": [],
   "source": [
    "C = [0.001, 0.01, 0.1, 1, 10] \n",
    "penalty =['l1', 'l2']\n",
    "tol = [0.0001, 0.001, 0.01, 0.1]\n",
    "class_weight = [None]\n",
    "intercept_scaling = [0.1, 1,10]\n",
    "solver = ['lbfgs']\n",
    "param_grid = [dict(C=C, penalty=penalty, tol=tol, class_weight=class_weight, fit_intercept=[True, False], intercept_scaling=intercept_scaling),\n",
    "              dict(solver=solver, C=C, penalty=['l2'], tol=tol, class_weight=class_weight, fit_intercept=[True, False])\n",
    "             ]\n",
    "\n",
    "logreg_features = {'features_sfm_logreg':features_sfm_logreg,\n",
    "                   'features_rfecv_logreg':features_rfecv_logreg,\n",
    "                    'features_treebased':features_treebased}\n",
    "grid = {}\n",
    "for key in logreg_features:\n",
    "    X = data_t[logreg_features[key]]\n",
    "    grid[key] = GridSearchCV(cv=StratifiedKFold(10), estimator=LogisticRegression(),param_grid=param_grid, scoring='accuracy')\n",
    "    grid[key].fit(X,y);"
   ]
  },
  {
   "cell_type": "code",
   "execution_count": 81,
   "metadata": {},
   "outputs": [
    {
     "name": "stdout",
     "output_type": "stream",
     "text": [
      "features_sfm_logreg\n",
      "0.889795918367\n",
      "{'C': 10, 'intercept_scaling': 10, 'fit_intercept': True, 'penalty': 'l1', 'tol': 0.01, 'class_weight': None}\n",
      "features_rfecv_logreg\n",
      "0.89387755102\n",
      "{'C': 1, 'intercept_scaling': 0.1, 'fit_intercept': True, 'penalty': 'l2', 'tol': 0.001, 'class_weight': None}\n"
     ]
    }
   ],
   "source": [
    "print 'features_sfm_logreg'\n",
    "print grid['features_sfm_logreg'].best_score_\n",
    "print grid['features_sfm_logreg'].best_params_\n",
    "print 'features_rfecv_logreg'\n",
    "print grid['features_rfecv_logreg'].best_score_\n",
    "print grid['features_rfecv_logreg'].best_params_"
   ]
  },
  {
   "cell_type": "code",
   "execution_count": 82,
   "metadata": {},
   "outputs": [
    {
     "name": "stdout",
     "output_type": "stream",
     "text": [
      "KBest\n",
      "0.886394557823\n",
      "{'C': 1, 'intercept_scaling': 10, 'fit_intercept': True, 'penalty': 'l1', 'tol': 0.0001, 'class_weight': None}\n"
     ]
    }
   ],
   "source": [
    "C = [0.001, 0.01, 0.1, 1, 10, 100, 1000] \n",
    "penalty =['l1', 'l2']\n",
    "tol = [0.0001, 0.001, 0.01, 0.1]\n",
    "class_weight = [None, {0:.16, 1:.84}]\n",
    "intercept_scaling = [0.1, 1,10]\n",
    "solver = ['lbfgs']\n",
    "param_grid = [dict(C=C, penalty=penalty, tol=tol, class_weight=class_weight, fit_intercept=[True, False], intercept_scaling=intercept_scaling),\n",
    "              dict(solver=solver, C=C, penalty=['l2'], tol=tol, class_weight=class_weight, fit_intercept=[True, False])\n",
    "             ]\n",
    "\n",
    "X = data_t[selected_features[39]]    \n",
    "grid = GridSearchCV(LogisticRegression(), param_grid, cv=StratifiedKFold(10), scoring='accuracy') #n_jobs=-1 all cpu will be used\n",
    "grid.fit(X, y)\n",
    "score = grid.best_score_\n",
    "if score > max_score:\n",
    "    max_score = score\n",
    "    best_params = grid.best_params_\n",
    "    k_max = k\n",
    "\n",
    "print 'KBest'\n",
    "print max_score\n",
    "print best_params"
   ]
  },
  {
   "cell_type": "markdown",
   "metadata": {},
   "source": [
    "Podemos apreciar que el estimador Regresión logistica tiene mayor porcentaje de acierto superando el 84% que obtendríamos prediciendo que ningun trabajador se va."
   ]
  },
  {
   "cell_type": "markdown",
   "metadata": {
    "collapsed": true
   },
   "source": [
    "# Support vector machines (SVMs)"
   ]
  },
  {
   "cell_type": "code",
   "execution_count": 83,
   "metadata": {
    "collapsed": true
   },
   "outputs": [],
   "source": [
    "from sklearn import svm\n",
    "from sklearn.model_selection import RandomizedSearchCV"
   ]
  },
  {
   "cell_type": "code",
   "execution_count": 84,
   "metadata": {},
   "outputs": [
    {
     "data": {
      "text/plain": [
       "0.88231456225585381"
      ]
     },
     "execution_count": 84,
     "metadata": {},
     "output_type": "execute_result"
    }
   ],
   "source": [
    "X = data_t[features_rfecv_lsvc]\n",
    "clf = svm.SVC(C=1.0, cache_size=2000, class_weight=None, coef0=0.0,\n",
    "    decision_function_shape=None, degree=3, gamma='auto', kernel='linear',\n",
    "    max_iter=-1, probability=False, random_state=None, shrinking=True,\n",
    "    tol=0.001, verbose=False)\n",
    "clf.fit(X, y)  \n",
    "\n",
    "cross_val_score(clf, X, y, cv=StratifiedKFold(10), scoring='accuracy').mean()"
   ]
  },
  {
   "cell_type": "code",
   "execution_count": 85,
   "metadata": {},
   "outputs": [
    {
     "name": "stdout",
     "output_type": "stream",
     "text": [
      "features_sfm_lsvc\n",
      "0.838775510204\n",
      "{'kernel': 'rbf', 'C': 0.001, 'gamma': 0.001}\n",
      "features_treebased\n",
      "0.838775510204\n",
      "{'kernel': 'rbf', 'C': 0.001, 'gamma': 0.001}\n",
      "features_rfecv_lsvc\n",
      "0.838775510204\n",
      "{'kernel': 'rbf', 'C': 0.001, 'gamma': 0.001}\n"
     ]
    }
   ],
   "source": [
    "C = [0.001, 0.01, 1] \n",
    "gamma = [0.001, 0.0001]\n",
    "p_grid = [\n",
    "    dict(C=C, kernel=['rbf'], gamma=gamma),\n",
    "    dict(C=C, kernel=['poly'], gamma=gamma)\n",
    "]\n",
    "rbf_grid = dict(C=C, kernel=['rbf'], gamma=gamma)\n",
    "poly_grid = dict(C=C, kernel=['poly'], gamma=['auto'])\n",
    "\n",
    "for key in features:\n",
    "    X = data_t[features[key]]\n",
    "    \n",
    "    grid = GridSearchCV(estimator=svm.SVC(), cv=2, param_grid=rbf_grid, scoring='accuracy')\n",
    "    grid.fit(X,y)\n",
    "    \n",
    "    print key\n",
    "    print grid.best_score_\n",
    "    print grid.best_params_"
   ]
  }
 ],
 "metadata": {
  "kernelspec": {
   "display_name": "Python 2",
   "language": "python",
   "name": "python2"
  },
  "language_info": {
   "codemirror_mode": {
    "name": "ipython",
    "version": 2
   },
   "file_extension": ".py",
   "mimetype": "text/x-python",
   "name": "python",
   "nbconvert_exporter": "python",
   "pygments_lexer": "ipython2",
   "version": "2.7.13"
  }
 },
 "nbformat": 4,
 "nbformat_minor": 2
}
